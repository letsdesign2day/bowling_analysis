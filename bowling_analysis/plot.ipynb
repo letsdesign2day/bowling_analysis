{
 "cells": [
  {
   "cell_type": "code",
   "execution_count": 1,
   "metadata": {},
   "outputs": [],
   "source": [
    "import random\n",
    "from itertools import count\n",
    "import matplotlib.pyplot as plt\n",
    "from matplotlib.animation import FuncAnimation"
   ]
  },
  {
   "cell_type": "code",
   "execution_count": 4,
   "metadata": {},
   "outputs": [
    {
     "name": "stderr",
     "output_type": "stream",
     "text": [
      "d:\\AI_Project\\AI_Python\\lib\\site-packages\\matplotlib-3.5.1-py3.9-win-amd64.egg\\matplotlib\\animation.py:889: UserWarning: Animation was deleted without rendering anything. This is most likely not intended. To prevent deletion, assign the Animation to a variable, e.g. `anim`, that exists until you have outputted the Animation using `plt.show()` or `anim.save()`.\n",
      "  warnings.warn(\n"
     ]
    },
    {
     "data": {
      "text/plain": [
       "<Figure size 432x288 with 0 Axes>"
      ]
     },
     "metadata": {},
     "output_type": "display_data"
    }
   ],
   "source": [
    "# python_live_plot.py\n",
    "\n",
    "\n",
    "\n",
    "plt.style.use('fivethirtyeight')\n",
    "\n",
    "x_values = []\n",
    "y_values = []\n",
    "\n",
    "index = count()\n",
    "\n",
    "\n",
    "def animate(i):\n",
    "    x_values.append(next(index))\n",
    "    y_values.append(random.randint(0, 5))\n",
    "    plt.cla()\n",
    "    plt.plot(x_values, y_values)\n",
    "\n",
    "\n",
    "ani = FuncAnimation(plt.gcf(), animate, 1000)\n",
    "\n",
    "\n",
    "plt.tight_layout()\n",
    "plt.show()"
   ]
  },
  {
   "cell_type": "code",
   "execution_count": 5,
   "metadata": {},
   "outputs": [
    {
     "ename": "",
     "evalue": "",
     "output_type": "error",
     "traceback": [
      "\u001b[1;31mThe Kernel crashed while executing code in the the current cell or a previous cell. Please review the code in the cell(s) to identify a possible cause of the failure. Click <a href='https://aka.ms/vscodeJupyterKernelCrash'>here</a> for more info. View Jupyter <a href='command:jupyter.viewOutput'>log</a> for further details."
     ]
    }
   ],
   "source": [
    "import cv2\n",
    "import numpy as np\n",
    "\n",
    "# Plot values in opencv program\n",
    "class Plotter:\n",
    "\tdef __init__(self, plot_width, plot_height):\n",
    "\t    self.width = plot_width\n",
    "\t    self.height = plot_height\n",
    "\t    self.color = (255, 0 ,0)\n",
    "\t    self.val = []\n",
    "\t    self.plot_canvas = np.ones((self.height, self.width, 3))*255\n",
    "\n",
    "\t# Update new values in plot\n",
    "\tdef plot(self, val, label = \"plot\"):\n",
    "\t\tself.val.append(int(val))\n",
    "\t\twhile len(self.val) > self.width:\n",
    "\t\t\tself.val.pop(0)\n",
    "\n",
    "\t\tself.show_plot(label)\n",
    "\n",
    "    # Show plot using opencv imshow\n",
    "\tdef show_plot(self, label):\n",
    "\t\tself.plot_canvas = np.ones((self.height, self.width, 3))*255\n",
    "\t\tcv2.line(self.plot_canvas, (0, int(self.height/2) ), (self.width, int(self.height/2)), (0,255,0), 1)\n",
    "\t\tfor i in range(len(self.val)-1):\n",
    "\t\t\tcv2.line(self.plot_canvas, (i, int(self.height/2) - self.val[i]), (i+1, int(self.height/2) - self.val[i+1]), self.color, 1)\n",
    "\n",
    "\t\tcv2.imshow(label, self.plot_canvas)\n",
    "\t\tcv2.waitKey(10)\n",
    "\n",
    "\n",
    "## Test on sample data\n",
    "\n",
    "# Create a plotter class object\n",
    "p = Plotter(400, 200)\n",
    "\n",
    "# Create dummy values using for loop \n",
    "for v in range(500):\n",
    "\t# call 'plot' method for realtime plot\n",
    "\tp.plot(v/5)"
   ]
  }
 ],
 "metadata": {
  "kernelspec": {
   "display_name": "AI_Python",
   "language": "python",
   "name": "python3"
  },
  "language_info": {
   "codemirror_mode": {
    "name": "ipython",
    "version": 3
   },
   "file_extension": ".py",
   "mimetype": "text/x-python",
   "name": "python",
   "nbconvert_exporter": "python",
   "pygments_lexer": "ipython3",
   "version": "3.9.13"
  },
  "orig_nbformat": 4,
  "vscode": {
   "interpreter": {
    "hash": "0eb53483fa9fa1c5bb62971bac4637c170b15fc3454ed53171151a64d13dd46b"
   }
  }
 },
 "nbformat": 4,
 "nbformat_minor": 2
}
