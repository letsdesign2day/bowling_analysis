{
 "cells": [
  {
   "cell_type": "code",
   "execution_count": 1,
   "metadata": {},
   "outputs": [],
   "source": [
    "import cv2\n",
    "import mediapipe as mp\n",
    "import time\n",
    "import numpy as np\n",
    "import matplotlib"
   ]
  },
  {
   "cell_type": "code",
   "execution_count": 2,
   "metadata": {},
   "outputs": [],
   "source": [
    "mpPose =mp.solutions.pose\n",
    "pose = mpPose.Pose()\n",
    "mp_drawing =mp.solutions.drawing_utils"
   ]
  },
  {
   "cell_type": "code",
   "execution_count": 3,
   "metadata": {},
   "outputs": [],
   "source": [
    "def Detection(image):\n",
    "    image = cv2.cvtColor(image, cv2.COLOR_BGR2RGB) # COLOR CONVERSION BGR 2 RGB\n",
    "    image.flags.writeable = False                  # Image is no longer writeable\n",
    "    results = pose.process(image)                 # Make prediction\n",
    "    image.flags.writeable = True                   # Image is now writeable \n",
    "    image = cv2.cvtColor(image, cv2.COLOR_RGB2BGR) # COLOR COVERSION RGB 2 BGR\n",
    "    return image, results"
   ]
  },
  {
   "cell_type": "code",
   "execution_count": 4,
   "metadata": {},
   "outputs": [],
   "source": [
    "def draw_styled_landmarks(image, results):\n",
    "    \n",
    "    # Draw pose connections\n",
    "    mp_drawing.draw_landmarks(image, results.pose_landmarks, mpPose.POSE_CONNECTIONS,\n",
    "                             mp_drawing.DrawingSpec(color=(80,22,10), thickness=2, circle_radius=1), \n",
    "                             mp_drawing.DrawingSpec(color=(80,44,121), thickness=2, circle_radius=1)\n",
    "                             ) \n",
    "    # Draw left hand connections\n",
    "    #mp_drawing.draw_landmarks(image, results.left_hand_landmarks, mp_holistic.HAND_CONNECTIONS, \n",
    "                             #mp_drawing.DrawingSpec(color=(121,22,76), thickness=2, circle_radius=4), \n",
    "                             #mp_drawing.DrawingSpec(color=(121,44,250), thickness=2, circle_radius=2)\n",
    "                             #) \n",
    "    # Draw right hand connections  \n",
    "    #mp_drawing.draw_landmarks(image, results.right_hand_landmarks, mp_holistic.HAND_CONNECTIONS, \n",
    "                             #mp_drawing.DrawingSpec(color=(245,117,66), thickness=2, circle_radius=4), \n",
    "                             #mp_drawing.DrawingSpec(color=(245,66,230), thickness=2, circle_radius=2)\n",
    "                             #) "
   ]
  },
  {
   "cell_type": "code",
   "execution_count": 5,
   "metadata": {},
   "outputs": [],
   "source": [
    "def Landmark_point(name):\n",
    "    if name == \"left_hand\":\n",
    "        list=(11,13,15)\n",
    "    if name == \"right_hand\":\n",
    "        list=(12,14,16)\n",
    "    \n",
    "\n",
    "    return list\n",
    "    "
   ]
  },
  {
   "cell_type": "code",
   "execution_count": 6,
   "metadata": {},
   "outputs": [],
   "source": [
    "def calculate_angle(a,b,c):\n",
    "    a = np.array(a) # First\n",
    "    b = np.array(b) # Mid\n",
    "    c = np.array(c) # End\n",
    "    \n",
    "    radians = np.arctan2(c[1]-b[1], c[0]-b[0]) - np.arctan2(a[1]-b[1], a[0]-b[0])\n",
    "    angle = np.abs(radians*180.0/np.pi)\n",
    "    \n",
    "    if angle >180.0:\n",
    "        angle = 360-angle\n",
    "        \n",
    "    return angle"
   ]
  },
  {
   "cell_type": "code",
   "execution_count": 7,
   "metadata": {},
   "outputs": [],
   "source": [
    "def Detected_And_Draw(frame,name,draw=True,draw_all=True):\n",
    "\n",
    "    ID_list=Landmark_point(name)\n",
    "    \n",
    "    p1=int(ID_list[0])\n",
    "    p2=int(ID_list[1])\n",
    "    p3=int(ID_list[2])\n",
    "    \n",
    "    img , results = Detection(frame)\n",
    "\n",
    "    if not results.pose_landmarks:\n",
    "        return None\n",
    "\n",
    "    lmList = []\n",
    "    for id,lm in enumerate (results.pose_landmarks.landmark):\n",
    "        \n",
    "        h,w,c =img.shape\n",
    "        cx ,cy = int(lm.x*w),int(lm.y*h)\n",
    "        lmList.append([id, cx, cy])\n",
    "\n",
    "    # Get the landmarks\n",
    "    x1, y1 = lmList[p1][1:]\n",
    "    a =[x1,y1]\n",
    "    x2, y2 = lmList[p2][1:]\n",
    "    b =[x2,y2]\n",
    "    x3,y3= lmList[p3][1:]\n",
    "    c =[x3,y3]\n",
    "\n",
    "    angle = calculate_angle(a,b,c)\n",
    "\n",
    "    if draw:\n",
    "            cv2.line(img, (x1, y1), (x2, y2), (255, 255, 255), 3)\n",
    "            cv2.line(img, (x3, y3), (x2, y2), (255, 255, 255), 3)\n",
    "            cv2.circle(img, (x1, y1), 6, (0, 0, 255), cv2.FILLED)\n",
    "            cv2.circle(img, (x1, y1), 10, (0, 0, 255), 2)\n",
    "            cv2.circle(img, (x2, y2), 6, (0, 0, 255), cv2.FILLED)\n",
    "            cv2.circle(img, (x2, y2), 10, (0, 0, 255), 2)\n",
    "            cv2.circle(img, (x3, y3), 6, (0, 0, 255), cv2.FILLED)\n",
    "            cv2.circle(img, (x3, y3), 10, (0, 0, 255), 2)\n",
    "            cv2.putText(img, str(int(angle)), (x2 - 50, y2 + 50),cv2.FONT_HERSHEY_PLAIN, 2, (0, 0, 255), 2)\n",
    "\n",
    "    if draw_all:\n",
    "        bg = cv2.imread(\"data/bg.jpg\")\n",
    "        bg=cv2.resize(bg,(w,h))\n",
    "\n",
    "        draw_styled_landmarks(bg, results)\n",
    "        cv2.putText(bg, str(int(angle)), \n",
    "                          (x2 + 20, y2 + 20), \n",
    "                           cv2.FONT_HERSHEY_SIMPLEX, 0.5, (255, 0, 255), 2, cv2.LINE_AA\n",
    "                                )\n",
    "\n",
    "\n",
    "    return img,bg,angle"
   ]
  },
  {
   "cell_type": "code",
   "execution_count": 8,
   "metadata": {},
   "outputs": [],
   "source": [
    "def hconcat_resize(img_list, \n",
    "                   interpolation \n",
    "                   = cv2.INTER_CUBIC):\n",
    "      # take minimum hights\n",
    "    h_min = min(img.shape[0] \n",
    "                for img in img_list)\n",
    "      \n",
    "    # image resizing \n",
    "    im_list_resize = [cv2.resize(img,\n",
    "                       (int(img.shape[1] * h_min / img.shape[0]),\n",
    "                        h_min), interpolation\n",
    "                                 = interpolation) \n",
    "                      for img in img_list]\n",
    "      \n",
    "    # return final image\n",
    "    return cv2.hconcat(im_list_resize)"
   ]
  },
  {
   "cell_type": "code",
   "execution_count": 9,
   "metadata": {},
   "outputs": [],
   "source": [
    "from cvzone.PlotModule import LivePlot"
   ]
  },
  {
   "cell_type": "code",
   "execution_count": 18,
   "metadata": {},
   "outputs": [],
   "source": [
    "cap = cv2.VideoCapture('data/6.mp4')\n",
    "ptime =0\n",
    "\n",
    "plot =LivePlot(480,720,[10,190])\n",
    "\n",
    "while True :\n",
    "    ret,img = cap.read()\n",
    "    \n",
    "\n",
    "    if ret:\n",
    "        height, width = img.shape[:2]\n",
    "        #print(height,width)\n",
    "\n",
    "\n",
    "        frame,bg,angle = Detected_And_Draw(img,'left_hand',draw=True,draw_all=True)\n",
    "                \n",
    "\n",
    "        # calcucate the frame rate\n",
    "        ctime=time.time()\n",
    "        fps = 1/(ctime-ptime)\n",
    "        ptime=ctime\n",
    "\n",
    "        #cv2.putText(final_img,str(int(fps)),(70,80),cv2.FONT_HERSHEY_COMPLEX,3,(255,0,0),3)\n",
    "        \n",
    "        imgPlot =plot.update((angle))\n",
    "        \n",
    "        final_result =hconcat_resize([frame,bg,imgPlot])\n",
    "\n",
    "        cv2.putText(final_result,\"FPS : \" +str(int(fps)), (int(width/3)+350,30), cv2.FONT_HERSHEY_PLAIN, 2,\n",
    "                (255, 0, 0),2)\n",
    "        cv2.putText(final_result, \"Bowling hand angle : \"+str(int(angle)),(int(width/3)+350,70), cv2.FONT_HERSHEY_COMPLEX, 1,\n",
    "                (255, 0, 0),2)\n",
    "        \n",
    "        cv2.imshow('Result',final_result)\n",
    "        height, width = final_result.shape[:2]\n",
    "        #print(height,width)\n",
    "\n",
    "    else:\n",
    "        break   \n",
    "\n",
    "    if cv2.waitKey(10) & 0xFF == ord('q'):\n",
    "        break\n",
    "\n",
    "cap.release()\n",
    "cv2.destroyAllWindows()"
   ]
  },
  {
   "cell_type": "code",
   "execution_count": null,
   "metadata": {},
   "outputs": [],
   "source": []
  },
  {
   "cell_type": "markdown",
   "metadata": {},
   "source": [
    "cap = cv2.VideoCapture('data/5.mp4')\n",
    "ptime =0\n",
    "while True :\n",
    "    ret,img = cap.read()\n",
    "    if not ret:\n",
    "        break\n",
    "\n",
    "    imgRGB = cv2.cvtColor(img,cv2.COLOR_BGR2RGB)\n",
    "    results = pose.process(imgRGB)\n",
    "    print(results.pose_landmarks)\n",
    "    if results.pose_landmarks:\n",
    "        mpDraw.draw_landmarks(img,results.pose_landmarks,mpPose.POSE_CONNECTIONS)\n",
    "\n",
    "    for id,lm in enumerate (results.pose_landmarks.landmark):\n",
    "        h,w,c =img.shape\n",
    "        cx ,cy = lm.x*w,lm.y*h\n",
    "\n",
    "\n",
    "\n",
    "\n",
    "# calcucate the frame rate\n",
    "    ctime=time.time()\n",
    "    fps = 1/(ctime-ptime)\n",
    "    ptime=ctime\n",
    "\n",
    "    cv2.putText(img,str(int(fps)),(70,80),cv2.FONT_HERSHEY_COMPLEX,3,(255,0,0),3)\n",
    "    cv2.imshow('Result',img)\n",
    "\n",
    "    if cv2.waitKey(10) & 0xFF == ord('q'):\n",
    "        break\n",
    "\n",
    "cv2.destroyAllWindows()\n"
   ]
  },
  {
   "cell_type": "code",
   "execution_count": null,
   "metadata": {},
   "outputs": [],
   "source": []
  },
  {
   "cell_type": "code",
   "execution_count": null,
   "metadata": {},
   "outputs": [],
   "source": []
  },
  {
   "cell_type": "code",
   "execution_count": null,
   "metadata": {},
   "outputs": [],
   "source": []
  }
 ],
 "metadata": {
  "kernelspec": {
   "display_name": "AI_Python",
   "language": "python",
   "name": "ai_python"
  },
  "language_info": {
   "codemirror_mode": {
    "name": "ipython",
    "version": 3
   },
   "file_extension": ".py",
   "mimetype": "text/x-python",
   "name": "python",
   "nbconvert_exporter": "python",
   "pygments_lexer": "ipython3",
   "version": "3.9.13"
  },
  "orig_nbformat": 4,
  "vscode": {
   "interpreter": {
    "hash": "0eb53483fa9fa1c5bb62971bac4637c170b15fc3454ed53171151a64d13dd46b"
   }
  }
 },
 "nbformat": 4,
 "nbformat_minor": 2
}
